{
 "cells": [
  {
   "cell_type": "code",
   "id": "initial_id",
   "metadata": {
    "collapsed": true,
    "ExecuteTime": {
     "end_time": "2025-02-16T16:59:15.238613Z",
     "start_time": "2025-02-16T16:59:15.229817Z"
    }
   },
   "source": [
    "import spacy\n",
    "from nltk import sent_tokenize\n",
    "\n",
    "# from theme_classifier.theme_classification_development import dataset_path\n",
    "# from theme_classifier.theme_classifier import folder_path"
   ],
   "outputs": [],
   "execution_count": 38
  },
  {
   "metadata": {
    "ExecuteTime": {
     "end_time": "2025-02-16T16:59:49.975074Z",
     "start_time": "2025-02-16T16:59:16.783395Z"
    }
   },
   "cell_type": "code",
   "source": "!python -m spacy download en_core_web_trf",
   "id": "5bb409ed710f0c6a",
   "outputs": [
    {
     "name": "stdout",
     "output_type": "stream",
     "text": [
      "Collecting en-core-web-trf==3.8.0\r\n",
      "  Downloading https://github.com/explosion/spacy-models/releases/download/en_core_web_trf-3.8.0/en_core_web_trf-3.8.0-py3-none-any.whl (457.4 MB)\r\n",
      "\u001B[2K     \u001B[90m━━━━━━━━━━━━━━━━━━━━━━━━━━━━━━━━━━━━━━\u001B[0m \u001B[32m457.4/457.4 MB\u001B[0m \u001B[31m18.1 MB/s\u001B[0m eta \u001B[36m0:00:00\u001B[0m00:01\u001B[0m00:01\u001B[0m\r\n",
      "\u001B[?25hRequirement already satisfied: spacy-curated-transformers<1.0.0,>=0.2.2 in /Users/hitesharyanacharya/PycharmProjects/Naruto/.venv1/lib/python3.11/site-packages (from en-core-web-trf==3.8.0) (0.3.0)\r\n",
      "Requirement already satisfied: curated-transformers<0.2.0,>=0.1.0 in /Users/hitesharyanacharya/PycharmProjects/Naruto/.venv1/lib/python3.11/site-packages (from spacy-curated-transformers<1.0.0,>=0.2.2->en-core-web-trf==3.8.0) (0.1.1)\r\n",
      "Requirement already satisfied: curated-tokenizers<0.1.0,>=0.0.9 in /Users/hitesharyanacharya/PycharmProjects/Naruto/.venv1/lib/python3.11/site-packages (from spacy-curated-transformers<1.0.0,>=0.2.2->en-core-web-trf==3.8.0) (0.0.9)\r\n",
      "Requirement already satisfied: torch>=1.12.0 in /Users/hitesharyanacharya/PycharmProjects/Naruto/.venv1/lib/python3.11/site-packages (from spacy-curated-transformers<1.0.0,>=0.2.2->en-core-web-trf==3.8.0) (2.6.0)\r\n",
      "Requirement already satisfied: regex>=2022 in /Users/hitesharyanacharya/PycharmProjects/Naruto/.venv1/lib/python3.11/site-packages (from curated-tokenizers<0.1.0,>=0.0.9->spacy-curated-transformers<1.0.0,>=0.2.2->en-core-web-trf==3.8.0) (2024.11.6)\r\n",
      "Requirement already satisfied: filelock in /Users/hitesharyanacharya/PycharmProjects/Naruto/.venv1/lib/python3.11/site-packages (from torch>=1.12.0->spacy-curated-transformers<1.0.0,>=0.2.2->en-core-web-trf==3.8.0) (3.17.0)\r\n",
      "Requirement already satisfied: typing-extensions>=4.10.0 in /Users/hitesharyanacharya/PycharmProjects/Naruto/.venv1/lib/python3.11/site-packages (from torch>=1.12.0->spacy-curated-transformers<1.0.0,>=0.2.2->en-core-web-trf==3.8.0) (4.12.2)\r\n",
      "Requirement already satisfied: networkx in /Users/hitesharyanacharya/PycharmProjects/Naruto/.venv1/lib/python3.11/site-packages (from torch>=1.12.0->spacy-curated-transformers<1.0.0,>=0.2.2->en-core-web-trf==3.8.0) (3.4.2)\r\n",
      "Requirement already satisfied: jinja2 in /Users/hitesharyanacharya/PycharmProjects/Naruto/.venv1/lib/python3.11/site-packages (from torch>=1.12.0->spacy-curated-transformers<1.0.0,>=0.2.2->en-core-web-trf==3.8.0) (3.1.5)\r\n",
      "Requirement already satisfied: fsspec in /Users/hitesharyanacharya/PycharmProjects/Naruto/.venv1/lib/python3.11/site-packages (from torch>=1.12.0->spacy-curated-transformers<1.0.0,>=0.2.2->en-core-web-trf==3.8.0) (2025.2.0)\r\n",
      "Requirement already satisfied: sympy==1.13.1 in /Users/hitesharyanacharya/PycharmProjects/Naruto/.venv1/lib/python3.11/site-packages (from torch>=1.12.0->spacy-curated-transformers<1.0.0,>=0.2.2->en-core-web-trf==3.8.0) (1.13.1)\r\n",
      "Requirement already satisfied: mpmath<1.4,>=1.1.0 in /Users/hitesharyanacharya/PycharmProjects/Naruto/.venv1/lib/python3.11/site-packages (from sympy==1.13.1->torch>=1.12.0->spacy-curated-transformers<1.0.0,>=0.2.2->en-core-web-trf==3.8.0) (1.3.0)\r\n",
      "Requirement already satisfied: MarkupSafe>=2.0 in /Users/hitesharyanacharya/PycharmProjects/Naruto/.venv1/lib/python3.11/site-packages (from jinja2->torch>=1.12.0->spacy-curated-transformers<1.0.0,>=0.2.2->en-core-web-trf==3.8.0) (2.1.5)\r\n",
      "\u001B[38;5;2m✔ Download and installation successful\u001B[0m\r\n",
      "You can now load the package via spacy.load('en_core_web_trf')\r\n"
     ]
    }
   ],
   "execution_count": 39
  },
  {
   "metadata": {
    "ExecuteTime": {
     "end_time": "2025-02-16T16:59:49.986950Z",
     "start_time": "2025-02-16T16:59:49.983317Z"
    }
   },
   "cell_type": "code",
   "source": [
    "def load_model():\n",
    "    nlp = spacy.load('en_core_web_trf')\n",
    "    return nlp"
   ],
   "id": "de4ab38dc98e2699",
   "outputs": [],
   "execution_count": 40
  },
  {
   "metadata": {
    "ExecuteTime": {
     "end_time": "2025-02-16T16:59:52.560215Z",
     "start_time": "2025-02-16T16:59:50.008914Z"
    }
   },
   "cell_type": "code",
   "source": "nlp_model = load_model()",
   "id": "9e375bc11794d976",
   "outputs": [],
   "execution_count": 41
  },
  {
   "metadata": {
    "ExecuteTime": {
     "end_time": "2025-02-16T16:59:55.536550Z",
     "start_time": "2025-02-16T16:59:55.533926Z"
    }
   },
   "cell_type": "code",
   "source": [
    "import os\n",
    "import sys\n",
    "import pathlib\n",
    "folder_path = pathlib.Path().parent.resolve()\n",
    "sys.path.append(os.path.join(folder_path,'../'))\n",
    "from utils import load_subtitles_dataset"
   ],
   "id": "29c1795a9216b2b1",
   "outputs": [],
   "execution_count": 42
  },
  {
   "metadata": {
    "ExecuteTime": {
     "end_time": "2025-02-16T16:59:57.373971Z",
     "start_time": "2025-02-16T16:59:57.240388Z"
    }
   },
   "cell_type": "code",
   "source": [
    "dataset_path = \"../data/Subtitles/\"\n",
    "df = load_subtitles_dataset(dataset_path)"
   ],
   "id": "ba2d8240a71b8972",
   "outputs": [],
   "execution_count": 43
  },
  {
   "metadata": {
    "ExecuteTime": {
     "end_time": "2025-02-16T16:59:59.066332Z",
     "start_time": "2025-02-16T16:59:59.051946Z"
    }
   },
   "cell_type": "code",
   "source": [
    "df.head()\n",
    "df['script'] = df['script'].str.replace(\"'\", \"\\\\'\", regex=False)\n",
    "df.head()"
   ],
   "id": "90f57d1be17ef587",
   "outputs": [
    {
     "data": {
      "text/plain": [
       "   episode                                             script\n",
       "0       94  We are Fighting Dreamers aiming high\\n Fightin...\n",
       "1       80  We are Fighting Dreamers aiming high\\n Fightin...\n",
       "2       32  Press down hard on the gas\\n That’s right, the...\n",
       "3      185  Rock away your existence,\\n Shouting that you ...\n",
       "4      191  Rock away your existence,\\n Shouting that you ..."
      ],
      "text/html": [
       "<div>\n",
       "<style scoped>\n",
       "    .dataframe tbody tr th:only-of-type {\n",
       "        vertical-align: middle;\n",
       "    }\n",
       "\n",
       "    .dataframe tbody tr th {\n",
       "        vertical-align: top;\n",
       "    }\n",
       "\n",
       "    .dataframe thead th {\n",
       "        text-align: right;\n",
       "    }\n",
       "</style>\n",
       "<table border=\"1\" class=\"dataframe\">\n",
       "  <thead>\n",
       "    <tr style=\"text-align: right;\">\n",
       "      <th></th>\n",
       "      <th>episode</th>\n",
       "      <th>script</th>\n",
       "    </tr>\n",
       "  </thead>\n",
       "  <tbody>\n",
       "    <tr>\n",
       "      <th>0</th>\n",
       "      <td>94</td>\n",
       "      <td>We are Fighting Dreamers aiming high\\n Fightin...</td>\n",
       "    </tr>\n",
       "    <tr>\n",
       "      <th>1</th>\n",
       "      <td>80</td>\n",
       "      <td>We are Fighting Dreamers aiming high\\n Fightin...</td>\n",
       "    </tr>\n",
       "    <tr>\n",
       "      <th>2</th>\n",
       "      <td>32</td>\n",
       "      <td>Press down hard on the gas\\n That’s right, the...</td>\n",
       "    </tr>\n",
       "    <tr>\n",
       "      <th>3</th>\n",
       "      <td>185</td>\n",
       "      <td>Rock away your existence,\\n Shouting that you ...</td>\n",
       "    </tr>\n",
       "    <tr>\n",
       "      <th>4</th>\n",
       "      <td>191</td>\n",
       "      <td>Rock away your existence,\\n Shouting that you ...</td>\n",
       "    </tr>\n",
       "  </tbody>\n",
       "</table>\n",
       "</div>"
      ]
     },
     "execution_count": 44,
     "metadata": {},
     "output_type": "execute_result"
    }
   ],
   "execution_count": 44
  },
  {
   "metadata": {
    "ExecuteTime": {
     "end_time": "2025-02-15T12:14:25.121941Z",
     "start_time": "2025-02-15T12:14:25.113519Z"
    }
   },
   "cell_type": "code",
   "source": [
    "sample_script = df.iloc[0]['script']\n",
    "sample_script"
   ],
   "id": "e47246bc3ab3a86d",
   "outputs": [
    {
     "data": {
      "text/plain": [
       "'We are Fighting Dreamers aiming high\\n Fighting Dreamersdon\\'t care what people think about them\\n Fighting Dreamersfollow what they believe\\n Oli Oli Oli Oh! Just go my way\\n Right here right now (Bang)Hit it straight like a line drive!\\n Right here right now (Burn)\\n Down a difficult roadfilled with endless struggles\\n Where do you think you are goingfollowing someone else\\'s map?\\n An insightful crow comes alongto tear up the map\\n Now open your eyes andtake a look at the truth (Yeah!)\\n There\\'s nothing to lose,so let\\'s GO!!!\\n We are Fighting Dreamers aiming high\\n Fighting Dreamersdon\\'t care what people think about them\\n Fighting Dreamersfollow what they believe\\n Oli Oli Oli Oh!Just go my way\\n Right here right now (Bang)Hit it straight like a line drive!\\n Right here right now (Burn)We\\'re gonna do it and do our best!\\n Right here right now (Bang)Hit it straight like a line drive!\\n Right here right now (Burn)We\\'re gonna do it and do our best! BANG!\\n My body movementshave finally returned…\\n Blood…\\n Lady Tsunade!\\n Say! Say! What’s happening?!\\n Why’s Kabuto fightingwith Old Lady Tsunade?!\\n Take a good look at the headband!\\n He’s Orochimaru’s subordinate.\\n Attack! Fury of the Rasengan!\\n That man is Orochimaru…\\n Shizune, you take care ofthe guy with the glasses…\\n I’ll take care of Orochimaru.\\n Before that, I’d like to have Tsunadedo something about this body.\\n The effects of that drugmight still last for awhile…\\n There’s nothing thatI can do about it.\\n What? Really?\\n Geez. I guess it can’t be helped.\\n I have no choicebut to fight in this condition.\\n Tsunade… Rest your bodywith Recovery Ninjutsu.\\n Then… What about me, me?\\n You guard Tsunade togetherwith that pig.\\n What?! I want to fight, too.Even I can--\\n No, you won’t!\\n Like that four-eyed kid said, right?\\n You’re on a different level.\\n The opponent is a Sannin like myself,\\n and the man who killedthe Third Hokage.\\n An eye for an eye…I’m the only one who can fight him.\\n And that four-eyed guy possessesthe same level of power as Kakashi.\\n Okay.\\n Then… Shadow Clo--\\n Hold it!\\n Don’t use the Shadow Clone Jutsu.lt’d be utterly pointless.\\n What?\\n It wouldn’t even becomemuch of a diversion…\\n It’d be a waste of Chakra…\\n with them as opponents.\\n Now then, let’s get this thing started.\\n – Summoning Jutsu.– Summoning Jutsu.\\n Hi.\\n – Huh?! \\t\\t\\t\\t\\t– What is this?!\\n – Wha--?!– What the heck’s going on?!\\n Long time no see.\\n On account of the drug,\\n Master Jiraiya still can’t build upChakra very well.\\n It looks like your stupidstill hasn’t healed, eh, Jiraiya.\\n That’s too much even for youwith no ability.\\n It seems Tsunade got youwith something.\\n A sacrifice was necessary for that Jutsu,\\n so perhaps she was thinking aheadand drugged him\\n with something thatwould contain his power.\\n To think she’d makea sacrifice of Jiraiya…\\n Well, it sounds just like Tsunade.\\n To think I’d already havemy handicap spotted.\\n You are sucha disgraceful guy as always…\\n Dang it. It kind of ticks me offwhen the Pervy Sage is mocked.\\n Summoning…Jutsu!\\n The Nine-Tailed Fox kidfrom the Chunin Exam.\\n I wonder if I should’ve killed him then,after all.\\n For the sake of the Akatsuki organization,\\n I acknowledged his achievement…and let him slide by.\\n But the only ones who can breaka Five-Pronged Spell\\n are the Sannin membersand the Third Hokage.\\n Which means Jiraiya may havealready taught it to Naruto.\\n Perhaps.\\n If he’s able to controlthe Nine-Tailed Fox’s power…\\n Oh…\\n Th-This is…\\n It doesn’t quite look to be so.\\n He isn’t endowed with Shinobi abilityto begin with, so…\\n Why?\\n He’s still got a long way to go,sure enough.\\n Why?!\\n Hello.\\n Hey, Gamatatsu.Why did you come out?\\n Oh, Brother Gamakichi.\\n It’s the first time I’ve been Summoned.\\n I-I wonder if I can do my best?\\n Idiot. Get some snacksor something and hide.\\n What? I can get snacks?Goody-goody.\\n Here I go.\\n I’ll take Jiraiya.\\n I leave the rest to you.\\n It’s unfortunate…\\n Here I also wanted to fight Lord Jiraiya,one of the Sannin.\\n Naruto!\\n Your opponent is me.\\n Earth Style! Dark Swamp!\\n Dang it. I can’t completely sink themwith such a puny swamp.\\n The drug is still working.\\n But…with this, the snakes can’t move.\\n Ninja Art! Poison Fog!\\n I’ll be up a creek ifI take even one breath.\\n My leg tendons…!\\n I won’t be eaten twice…!No way!\\n Here I go.\\n Ninja Art! Needle Jizo!\\n Dang it…The Jutsu isn’t working well.\\n Even if we both have handicaps,you won’t one-up me…\\n Give up now.\\n It’s unfortunate…\\n Here I had respected youas a fellow Medical Ninja.\\n Stop. Stay back!\\n Please hang on, Lady Tsunade…\\n The Sannin name, which Lord Orochimaruis also called, will cry.\\n My body’s heavy.\\n To think you who wereonce called the village madness\\n would ferry around such a kidand struggle tirelessly for the village.\\n You’ve really fallen, haven’t you?\\n I have a keen eye to discern ability.\\n And that kid…is mediocrity in my eyes.\\n It’s precisely for this reason…that I don’t need the Uchiha kid.\\n It’s no fun raising a geniuswho’s good from the start.\\n So you can’t leave him alone\\n because it’s like you’re lookingat your old self?\\n That kid can’t beat Uchiha who inheritedthe inherent Sharingan Shinobi skill.\\n And that’s because Narutodoesn’t possess the Sharingan.\\n Shinobi ability is about whether\\n one can use and masterall the Jutsu of the world.\\n Ninja refers to onewho can use Ninjutsu.\\n Shinobi ability is no such thing.\\n You still don’t get it?\\n A Ninja…is one who endures.\\n It’s a difference of opinion, huh.\\n I’ll teach you one thing.\\n What’s most important for Shinobi ability…\\n isn’t the number of Jutsuone possesses.\\n What’s important is…\\n The mettle…\\n not to give up.\\n Enough already…you jerk!\\n The mettle to never give up…\\n He possesses that.\\n Heh. I don’t know what Jutsu you learned,\\n but you can’t hit me withsuch a large motion.\\n No good.\\n It won’t easily hit witha moving opponent.\\n Owwee!\\n And the Chakra isn’tcompletely held, yet…\\n It seems you got a cracked thigh bonein your left leg\\n from the battle with the snake.\\n Well, you can still move ifit’s just the bone.\\n But it’s impossible now…\\n The lateral vastus musclein your right leg is totally cut off.\\n What should I do…?\\n That Jutsu of mine uses both hands.\\n If even one arm is taken out, it’s over.\\n Are you scared of me?\\n Do you want to run away from here?\\n Naruto, as I recall,\\n you whooped it up like thisduring the first Chunin Exam.\\n Don’t mess with me. I won’t run away!\\n \"Don’t mess with me. I won’t run away.\"\\n \"I’ll take it. Even if I’m a Genin for life…\"\\n \"I’ll become the Hokage at any cost,so it’s okay with me.\"\\n \"I’m not scared.\"\\n Can you…whoop it up in the same way now?\\n Unlike you…\\n I will be the heir to the Hokage nameno matter what!\\n – Hokage is my dream!– Hokage is my dream!\\n You’re not a kid anymore,so you should stop whooping it up…\\n Depending on the situation,\\n when you want to give up and run away,you should run away.\\n Oh my… What’s with that look?\\n You’ll die! If you die,there are no dreams or anything…\\n Do you want to die?\\n You’re still a Genin,so you should run away on the battlefield.\\n Don’t tell a man to run away.\\n Kids think that everything is easy.\\n That’s why they talk about foolish dreamslike nothing at all.\\n That’s why they can’t give up.\\n Jiraiya, was it youwho taught him that Rasengan?\\n Are you acting like a teacher by teachinga Jutsu that can’t be learned?\\n Don’t give him false hopes.\\n That’s why a moony kid starts jokingthat he’ll become the Hokage!\\n They chase after foolish dreams…and then die.\\n If I have three days,I’ll master that Jutsu.\\n Then let\\'s make a bet.\\n Bastard!\\n As for me… I stand by my words.\\n That’s…my Way of Ninja!\\n A bet?\\n I’ll give you one week.\\n If you can master that Jutsu,\\n I’ll acknowledge thatyou’ll be able to become the Hokage…\\n and give you this necklace.\\n You should’ve juststayed out of this…\\n Why?\\n Why?!\\n Old Lady Tsunade…\\n You’re still going to get up?\\n Just like our wager\\n I will definitely winthat unlucky necklace from you.\\n Shadow Clone Jutsu!\\n Shadow Clone won’t do anything now.\\n Enough… Don’t protect me, Naruto.Stop it!\\n I told you that you’d dieif you were obstinate like that, right?\\n If you die, there will be no dreams,no nothing.\\n Just get out of the way. Run away.\\n Humph… It’s okay.\\n I…\\n I absolutely will not die…\\n until I become the Hokage!\\n This way, I can hold on to you.Here I go!\\n It’s the same Chakra movementas before.\\n No, this is…different.\\n I see.\\n In order to gain a handfor suppressing Chakra,\\n the Shadow Clone…\\n Compress Chakra and…\\n hold it completely.\\n Wha--?!\\n I-It can’t be.\\n Rasengan!\\n I believe your promise,its a true heart give me courage\\n Always I feel itthe precious time with you\\n On your still shoulder\\n I feel the wind that blowstowards tomorrow\\n The city lights are like pieces of stars\\n That hold us together\\n “Each one of us glows differently,”\\n you say laughingly\\n but you look most dazzling\\n Like a comet,\\n like the rainbow after the storm\\n You bring light into my heart\\n Being lost can be the answer\\n Let’s promise we won’t cheat\\n Uh... like a shooting star,we do go ahead.\\n I never forget my ideal…\\n to develop the Village Hidden in the Leafand protect its people.\\n The Hokages have sacrificedtheir lives for that dream.\\n And now,I also will put my life on the line.\\n From this moment,I am the Fifth Hokage!\\n Next time: \"The Fifth Hokage!A Life on the Line!\"\\n'"
      ]
     },
     "execution_count": 11,
     "metadata": {},
     "output_type": "execute_result"
    }
   ],
   "execution_count": 11
  },
  {
   "metadata": {
    "ExecuteTime": {
     "end_time": "2025-02-15T12:14:48.394122Z",
     "start_time": "2025-02-15T12:14:48.367278Z"
    }
   },
   "cell_type": "code",
   "source": "sentences = sent_tokenize(sample_script)",
   "id": "57548e5c9662c4d9",
   "outputs": [],
   "execution_count": 12
  },
  {
   "metadata": {
    "ExecuteTime": {
     "end_time": "2025-02-15T12:16:30.251863Z",
     "start_time": "2025-02-15T12:16:30.246678Z"
    }
   },
   "cell_type": "code",
   "source": "sentences = sentences[60:90]",
   "id": "715addf4f078ec7b",
   "outputs": [],
   "execution_count": 16
  },
  {
   "metadata": {
    "ExecuteTime": {
     "end_time": "2025-02-15T12:16:35.154312Z",
     "start_time": "2025-02-15T12:16:35.151007Z"
    }
   },
   "cell_type": "code",
   "source": "sentence = \".\".join(sentences)",
   "id": "fb19c3d9920fc379",
   "outputs": [],
   "execution_count": 17
  },
  {
   "metadata": {
    "ExecuteTime": {
     "end_time": "2025-02-15T12:16:37.064279Z",
     "start_time": "2025-02-15T12:16:37.059806Z"
    }
   },
   "cell_type": "code",
   "source": "sentence",
   "id": "7c3a1b544dc00c26",
   "outputs": [
    {
     "data": {
      "text/plain": [
       "'The Nine-Tailed Fox kidfrom the Chunin Exam..I wonder if I should’ve killed him then,after all..For the sake of the Akatsuki organization,\\n I acknowledged his achievement…and let him slide by..But the only ones who can breaka Five-Pronged Spell\\n are the Sannin membersand the Third Hokage..Which means Jiraiya may havealready taught it to Naruto..Perhaps..If he’s able to controlthe Nine-Tailed Fox’s power…\\n Oh…\\n Th-This is…\\n It doesn’t quite look to be so..He isn’t endowed with Shinobi abilityto begin with, so…\\n Why?.He’s still got a long way to go,sure enough..Why?!.Hello..Hey, Gamatatsu.Why did you come out?.Oh, Brother Gamakichi..It’s the first time I’ve been Summoned..I-I wonder if I can do my best?.Idiot..Get some snacksor something and hide..What?.I can get snacks?Goody-goody..Here I go..I’ll take Jiraiya..I leave the rest to you..It’s unfortunate…\\n Here I also wanted to fight Lord Jiraiya,one of the Sannin..Naruto!.Your opponent is me..Earth Style!.Dark Swamp!.Dang it..I can’t completely sink themwith such a puny swamp..The drug is still working.'"
      ]
     },
     "execution_count": 18,
     "metadata": {},
     "output_type": "execute_result"
    }
   ],
   "execution_count": 18
  },
  {
   "metadata": {
    "ExecuteTime": {
     "end_time": "2025-02-15T12:17:09.821116Z",
     "start_time": "2025-02-15T12:17:09.278585Z"
    }
   },
   "cell_type": "code",
   "source": "doc = nlp_model(sentence)",
   "id": "255adb625c7112b0",
   "outputs": [],
   "execution_count": 19
  },
  {
   "metadata": {
    "ExecuteTime": {
     "end_time": "2025-02-15T12:17:14.647682Z",
     "start_time": "2025-02-15T12:17:14.641120Z"
    }
   },
   "cell_type": "code",
   "source": "doc.ents",
   "id": "24309104ee544858",
   "outputs": [
    {
     "data": {
      "text/plain": [
       "(the Chunin Exam,\n",
       " Akatsuki,\n",
       " Sannin,\n",
       " Third,\n",
       " Jiraiya,\n",
       " Naruto,\n",
       " Shinobi,\n",
       " Gamatatsu,\n",
       " Gamakichi,\n",
       " first,\n",
       " Jiraiya,\n",
       " Jiraiya,\n",
       " Sannin)"
      ]
     },
     "execution_count": 20,
     "metadata": {},
     "output_type": "execute_result"
    }
   ],
   "execution_count": 20
  },
  {
   "metadata": {
    "ExecuteTime": {
     "end_time": "2025-02-15T12:18:15.888271Z",
     "start_time": "2025-02-15T12:18:15.874183Z"
    }
   },
   "cell_type": "code",
   "source": [
    "for entity in doc.ents:\n",
    "    print(entity, entity.label_)"
   ],
   "id": "8e507e601f2b418a",
   "outputs": [
    {
     "name": "stdout",
     "output_type": "stream",
     "text": [
      "the Chunin Exam EVENT\n",
      "Akatsuki NORP\n",
      "Sannin NORP\n",
      "Third ORDINAL\n",
      "Jiraiya PERSON\n",
      "Naruto PERSON\n",
      "Shinobi NORP\n",
      "Gamatatsu PERSON\n",
      "Gamakichi PERSON\n",
      "first ORDINAL\n",
      "Jiraiya PERSON\n",
      "Jiraiya PERSON\n",
      "Sannin NORP\n"
     ]
    }
   ],
   "execution_count": 21
  },
  {
   "metadata": {
    "ExecuteTime": {
     "end_time": "2025-02-15T12:28:33.606556Z",
     "start_time": "2025-02-15T12:28:33.598389Z"
    }
   },
   "cell_type": "code",
   "source": [
    "def get_ners_inference(script):\n",
    "    script_sentences = sent_tokenize(script)\n",
    "\n",
    "    ner_output = []\n",
    "\n",
    "    for sentence in script_sentences:\n",
    "        doc = nlp_model(sentence)\n",
    "        ners = set()\n",
    "        for entity in doc.ents:\n",
    "            if entity.label_ == 'PERSON':\n",
    "                full_name = entity.text\n",
    "                first_name = full_name.split(\" \")[0]\n",
    "                first_name = first_name.strip()\n",
    "                ners.add(first_name)\n",
    "\n",
    "        ner_output.append(ners)\n",
    "\n",
    "    return ner_output\n"
   ],
   "id": "1b38a7e0d3784cf3",
   "outputs": [],
   "execution_count": 25
  },
  {
   "metadata": {
    "ExecuteTime": {
     "end_time": "2025-02-15T12:25:53.694684Z",
     "start_time": "2025-02-15T12:25:53.689547Z"
    }
   },
   "cell_type": "code",
   "source": "df = df.head(10)",
   "id": "27a6bb9c854e355f",
   "outputs": [],
   "execution_count": 23
  },
  {
   "metadata": {
    "ExecuteTime": {
     "end_time": "2025-02-15T12:29:56.670331Z",
     "start_time": "2025-02-15T12:28:37.069387Z"
    }
   },
   "cell_type": "code",
   "source": "df['ners'] = df['script'].apply(get_ners_inference)",
   "id": "7277642b912ec95b",
   "outputs": [
    {
     "name": "stderr",
     "output_type": "stream",
     "text": [
      "/var/folders/lj/zky9x_lx7pj57b7rg4c3m04r0000gn/T/ipykernel_18935/2937192443.py:1: SettingWithCopyWarning: \n",
      "A value is trying to be set on a copy of a slice from a DataFrame.\n",
      "Try using .loc[row_indexer,col_indexer] = value instead\n",
      "\n",
      "See the caveats in the documentation: https://pandas.pydata.org/pandas-docs/stable/user_guide/indexing.html#returning-a-view-versus-a-copy\n",
      "  df['ners'] = df['script'].apply(get_ners_inference)\n"
     ]
    }
   ],
   "execution_count": 26
  },
  {
   "metadata": {
    "ExecuteTime": {
     "end_time": "2025-02-15T12:34:01.816120Z",
     "start_time": "2025-02-15T12:34:01.734412Z"
    }
   },
   "cell_type": "code",
   "source": "df",
   "id": "258b5496a4dba048",
   "outputs": [
    {
     "data": {
      "text/plain": [
       "   episode                                             script  \\\n",
       "0       94  We are Fighting Dreamers aiming high\\n Fightin...   \n",
       "1       80  We are Fighting Dreamers aiming high\\n Fightin...   \n",
       "2       32  Press down hard on the gas\\n That’s right, the...   \n",
       "3      185  Rock away your existence,\\n Shouting that you ...   \n",
       "4      191  Rock away your existence,\\n Shouting that you ...   \n",
       "5      190  Rock away your existence,\\n Shouting that you ...   \n",
       "6      184  Rock away your existence,\\n Shouting that you ...   \n",
       "7       27  Press down hard on the gas\\n That’s right, the...   \n",
       "8       33  Press down hard on the gas\\n That’s right, the...   \n",
       "9       81  We are Fighting Dreamers aiming high\\n Fightin...   \n",
       "\n",
       "                                                ners  \n",
       "0  [{Oli}, {}, {}, {}, {}, {Oli}, {}, {}, {}, {},...  \n",
       "1  [{Oli}, {}, {}, {}, {}, {Oli}, {}, {}, {}, {},...  \n",
       "2  [{}, {}, {}, {}, {}, {}, {Lee}, {}, {}, {}, {}...  \n",
       "3  [{}, {}, {}, {}, {}, {}, {}, {}, {}, {}, {Onba...  \n",
       "4  [{}, {}, {}, {}, {}, {}, {}, {}, {}, {Hinata},...  \n",
       "5  [{}, {}, {}, {}, {}, {}, {}, {}, {}, {}, {Naru...  \n",
       "6  [{}, {}, {}, {}, {}, {Akamaru}, {}, {}, {Kiba}...  \n",
       "7  [{}, {}, {}, {}, {}, {}, {}, {}, {Naruto}, {},...  \n",
       "8  [{}, {}, {}, {}, {}, {}, {}, {}, {}, {Sasuke},...  \n",
       "9  [{Oli}, {}, {}, {}, {}, {Oli}, {}, {}, {}, {},...  "
      ],
      "text/html": [
       "<div>\n",
       "<style scoped>\n",
       "    .dataframe tbody tr th:only-of-type {\n",
       "        vertical-align: middle;\n",
       "    }\n",
       "\n",
       "    .dataframe tbody tr th {\n",
       "        vertical-align: top;\n",
       "    }\n",
       "\n",
       "    .dataframe thead th {\n",
       "        text-align: right;\n",
       "    }\n",
       "</style>\n",
       "<table border=\"1\" class=\"dataframe\">\n",
       "  <thead>\n",
       "    <tr style=\"text-align: right;\">\n",
       "      <th></th>\n",
       "      <th>episode</th>\n",
       "      <th>script</th>\n",
       "      <th>ners</th>\n",
       "    </tr>\n",
       "  </thead>\n",
       "  <tbody>\n",
       "    <tr>\n",
       "      <th>0</th>\n",
       "      <td>94</td>\n",
       "      <td>We are Fighting Dreamers aiming high\\n Fightin...</td>\n",
       "      <td>[{Oli}, {}, {}, {}, {}, {Oli}, {}, {}, {}, {},...</td>\n",
       "    </tr>\n",
       "    <tr>\n",
       "      <th>1</th>\n",
       "      <td>80</td>\n",
       "      <td>We are Fighting Dreamers aiming high\\n Fightin...</td>\n",
       "      <td>[{Oli}, {}, {}, {}, {}, {Oli}, {}, {}, {}, {},...</td>\n",
       "    </tr>\n",
       "    <tr>\n",
       "      <th>2</th>\n",
       "      <td>32</td>\n",
       "      <td>Press down hard on the gas\\n That’s right, the...</td>\n",
       "      <td>[{}, {}, {}, {}, {}, {}, {Lee}, {}, {}, {}, {}...</td>\n",
       "    </tr>\n",
       "    <tr>\n",
       "      <th>3</th>\n",
       "      <td>185</td>\n",
       "      <td>Rock away your existence,\\n Shouting that you ...</td>\n",
       "      <td>[{}, {}, {}, {}, {}, {}, {}, {}, {}, {}, {Onba...</td>\n",
       "    </tr>\n",
       "    <tr>\n",
       "      <th>4</th>\n",
       "      <td>191</td>\n",
       "      <td>Rock away your existence,\\n Shouting that you ...</td>\n",
       "      <td>[{}, {}, {}, {}, {}, {}, {}, {}, {}, {Hinata},...</td>\n",
       "    </tr>\n",
       "    <tr>\n",
       "      <th>5</th>\n",
       "      <td>190</td>\n",
       "      <td>Rock away your existence,\\n Shouting that you ...</td>\n",
       "      <td>[{}, {}, {}, {}, {}, {}, {}, {}, {}, {}, {Naru...</td>\n",
       "    </tr>\n",
       "    <tr>\n",
       "      <th>6</th>\n",
       "      <td>184</td>\n",
       "      <td>Rock away your existence,\\n Shouting that you ...</td>\n",
       "      <td>[{}, {}, {}, {}, {}, {Akamaru}, {}, {}, {Kiba}...</td>\n",
       "    </tr>\n",
       "    <tr>\n",
       "      <th>7</th>\n",
       "      <td>27</td>\n",
       "      <td>Press down hard on the gas\\n That’s right, the...</td>\n",
       "      <td>[{}, {}, {}, {}, {}, {}, {}, {}, {Naruto}, {},...</td>\n",
       "    </tr>\n",
       "    <tr>\n",
       "      <th>8</th>\n",
       "      <td>33</td>\n",
       "      <td>Press down hard on the gas\\n That’s right, the...</td>\n",
       "      <td>[{}, {}, {}, {}, {}, {}, {}, {}, {}, {Sasuke},...</td>\n",
       "    </tr>\n",
       "    <tr>\n",
       "      <th>9</th>\n",
       "      <td>81</td>\n",
       "      <td>We are Fighting Dreamers aiming high\\n Fightin...</td>\n",
       "      <td>[{Oli}, {}, {}, {}, {}, {Oli}, {}, {}, {}, {},...</td>\n",
       "    </tr>\n",
       "  </tbody>\n",
       "</table>\n",
       "</div>"
      ]
     },
     "execution_count": 27,
     "metadata": {},
     "output_type": "execute_result"
    }
   ],
   "execution_count": 27
  },
  {
   "metadata": {
    "ExecuteTime": {
     "end_time": "2025-02-15T15:49:24.341526Z",
     "start_time": "2025-02-15T15:49:24.305892Z"
    }
   },
   "cell_type": "code",
   "source": [
    "import pandas as pd\n",
    "import matplotlib.pyplot as plt\n",
    "import networkx as nx\n",
    "from pyvis.network import Network"
   ],
   "id": "c4755a93303104f1",
   "outputs": [],
   "execution_count": 30
  },
  {
   "metadata": {
    "ExecuteTime": {
     "end_time": "2025-02-15T16:02:17.900492Z",
     "start_time": "2025-02-15T16:02:17.894953Z"
    }
   },
   "cell_type": "code",
   "source": [
    "def generate_character_network(df):\n",
    "\n",
    "    windows = 10\n",
    "    entity_relationship = []\n",
    "\n",
    "    for row in df['ners']:\n",
    "        previous_entities_in_window = []\n",
    "\n",
    "        for sentence in row:\n",
    "            previous_entities_in_window.append(list(sentence))\n",
    "            previous_entities_in_window = previous_entities_in_window[-windows:]\n",
    "\n",
    "            # Flatten 2D list to 1D list\n",
    "            previous_entities_flattened = sum(previous_entities_in_window, [])\n",
    "\n",
    "            for entity in sentence:\n",
    "                for entity_in_window in previous_entities_flattened:\n",
    "                    if entity != entity_in_window:\n",
    "                        entity_relationship.append(sorted([entity, entity_in_window]))\n",
    "\n",
    "        relationship_df = pd.DataFrame({'value': entity_relationship})\n",
    "        relationship_df['source'] = relationship_df['value'].apply(lambda x : x[0])\n",
    "        relationship_df['target'] = relationship_df['value'].apply(lambda x : x[1])\n",
    "        relationship_df = relationship_df.groupby(['source', 'target']).count().reset_index()\n",
    "        relationship_df = relationship_df.sort_values('value', ascending=False)\n",
    "\n",
    "        return relationship_df"
   ],
   "id": "636eaecbe0affed5",
   "outputs": [],
   "execution_count": 32
  },
  {
   "metadata": {
    "ExecuteTime": {
     "end_time": "2025-02-15T16:02:29.998346Z",
     "start_time": "2025-02-15T16:02:29.942285Z"
    }
   },
   "cell_type": "code",
   "source": [
    "relationship_df = generate_character_network(df)\n",
    "relationship_df.head()"
   ],
   "id": "a1adc999d0b2074d",
   "outputs": [
    {
     "data": {
      "text/plain": [
       "        source   target  value\n",
       "16     Jiraiya  Tsunade      8\n",
       "13     Jiraiya   Naruto      5\n",
       "35  Orochimaru  Tsunade      5\n",
       "17     Jiraiya      the      4\n",
       "12     Jiraiya    Jutsu      3"
      ],
      "text/html": [
       "<div>\n",
       "<style scoped>\n",
       "    .dataframe tbody tr th:only-of-type {\n",
       "        vertical-align: middle;\n",
       "    }\n",
       "\n",
       "    .dataframe tbody tr th {\n",
       "        vertical-align: top;\n",
       "    }\n",
       "\n",
       "    .dataframe thead th {\n",
       "        text-align: right;\n",
       "    }\n",
       "</style>\n",
       "<table border=\"1\" class=\"dataframe\">\n",
       "  <thead>\n",
       "    <tr style=\"text-align: right;\">\n",
       "      <th></th>\n",
       "      <th>source</th>\n",
       "      <th>target</th>\n",
       "      <th>value</th>\n",
       "    </tr>\n",
       "  </thead>\n",
       "  <tbody>\n",
       "    <tr>\n",
       "      <th>16</th>\n",
       "      <td>Jiraiya</td>\n",
       "      <td>Tsunade</td>\n",
       "      <td>8</td>\n",
       "    </tr>\n",
       "    <tr>\n",
       "      <th>13</th>\n",
       "      <td>Jiraiya</td>\n",
       "      <td>Naruto</td>\n",
       "      <td>5</td>\n",
       "    </tr>\n",
       "    <tr>\n",
       "      <th>35</th>\n",
       "      <td>Orochimaru</td>\n",
       "      <td>Tsunade</td>\n",
       "      <td>5</td>\n",
       "    </tr>\n",
       "    <tr>\n",
       "      <th>17</th>\n",
       "      <td>Jiraiya</td>\n",
       "      <td>the</td>\n",
       "      <td>4</td>\n",
       "    </tr>\n",
       "    <tr>\n",
       "      <th>12</th>\n",
       "      <td>Jiraiya</td>\n",
       "      <td>Jutsu</td>\n",
       "      <td>3</td>\n",
       "    </tr>\n",
       "  </tbody>\n",
       "</table>\n",
       "</div>"
      ]
     },
     "execution_count": 33,
     "metadata": {},
     "output_type": "execute_result"
    }
   ],
   "execution_count": 33
  },
  {
   "metadata": {
    "ExecuteTime": {
     "end_time": "2025-02-15T17:42:18.851988Z",
     "start_time": "2025-02-15T17:42:18.788798Z"
    }
   },
   "cell_type": "code",
   "source": [
    "relationship_df = relationship_df.sort_values('value', ascending=False)\n",
    "relationship_df = relationship_df.head(200)"
   ],
   "id": "4ee7c6928a270ef3",
   "outputs": [],
   "execution_count": 34
  },
  {
   "metadata": {
    "ExecuteTime": {
     "end_time": "2025-02-15T17:45:43.332224Z",
     "start_time": "2025-02-15T17:45:43.215598Z"
    }
   },
   "cell_type": "code",
   "source": [
    "G = nx.from_pandas_edgelist(\n",
    "    relationship_df,\n",
    "    source='source',\n",
    "    target='target',\n",
    "    edge_attr='value',\n",
    "    create_using=nx.Graph()\n",
    ")\n",
    "\n",
    "net = Network(notebook=True, width='1000px', height='700px', bgcolor='white', font_color='black', cdn_resources='remote')\n",
    "node_degree = dict(G.degree)\n",
    "\n",
    "nx.set_node_attributes(G, node_degree, 'size')\n",
    "net.from_nx(G)\n",
    "net.show('naruto.html')"
   ],
   "id": "e8f41e5cd45ed42c",
   "outputs": [
    {
     "name": "stdout",
     "output_type": "stream",
     "text": [
      "naruto.html\n"
     ]
    },
    {
     "data": {
      "text/plain": [
       "<IPython.lib.display.IFrame at 0x328873dd0>"
      ],
      "text/html": [
       "\n",
       "        <iframe\n",
       "            width=\"1000px\"\n",
       "            height=\"700px\"\n",
       "            src=\"naruto.html\"\n",
       "            frameborder=\"0\"\n",
       "            allowfullscreen\n",
       "            \n",
       "        ></iframe>\n",
       "        "
      ]
     },
     "execution_count": 35,
     "metadata": {},
     "output_type": "execute_result"
    }
   ],
   "execution_count": 35
  },
  {
   "metadata": {},
   "cell_type": "code",
   "outputs": [],
   "execution_count": null,
   "source": "",
   "id": "ac09f34a9f9dc0c2"
  }
 ],
 "metadata": {
  "kernelspec": {
   "display_name": "Python (.venv1)",
   "language": "python",
   "name": "venv1"
  },
  "language_info": {
   "codemirror_mode": {
    "name": "ipython",
    "version": 2
   },
   "file_extension": ".py",
   "mimetype": "text/x-python",
   "name": "python",
   "nbconvert_exporter": "python",
   "pygments_lexer": "ipython2",
   "version": "2.7.6"
  }
 },
 "nbformat": 4,
 "nbformat_minor": 5
}
