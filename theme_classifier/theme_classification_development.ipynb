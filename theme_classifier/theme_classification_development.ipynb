{
 "cells": [
  {
   "cell_type": "code",
   "id": "initial_id",
   "metadata": {
    "collapsed": true,
    "ExecuteTime": {
     "end_time": "2025-02-12T12:54:46.692207Z",
     "start_time": "2025-02-12T12:54:46.688859Z"
    }
   },
   "source": [
    "import nltk\n",
    "from transformers import pipeline, AutoTokenizer\n",
    "from nltk import sent_tokenize\n",
    "import torch\n",
    "import glob\n",
    "import pandas as pd\n",
    "import numpy as np"
   ],
   "outputs": [],
   "execution_count": 50
  },
  {
   "metadata": {
    "ExecuteTime": {
     "end_time": "2025-02-12T12:54:46.700907Z",
     "start_time": "2025-02-12T12:54:46.697993Z"
    }
   },
   "cell_type": "code",
   "source": "nltk.download('punkt')",
   "id": "22f6f72bcddcba2f",
   "outputs": [
    {
     "name": "stderr",
     "output_type": "stream",
     "text": [
      "[nltk_data] Downloading package punkt to\n",
      "[nltk_data]     /Users/hitesharyanacharya/nltk_data...\n",
      "[nltk_data]   Package punkt is already up-to-date!\n"
     ]
    },
    {
     "data": {
      "text/plain": [
       "True"
      ]
     },
     "execution_count": 51,
     "metadata": {},
     "output_type": "execute_result"
    }
   ],
   "execution_count": 51
  },
  {
   "metadata": {
    "ExecuteTime": {
     "end_time": "2025-02-12T12:54:46.720879Z",
     "start_time": "2025-02-12T12:54:46.716638Z"
    }
   },
   "cell_type": "code",
   "source": [
    "model_name = 'facebook/bart-large-mnli'\n",
    "device = torch.device(\"mps\") if torch.backends.mps.is_available() else 'cpu'"
   ],
   "id": "ac4e50f3794798ed",
   "outputs": [],
   "execution_count": 52
  },
  {
   "metadata": {
    "ExecuteTime": {
     "end_time": "2025-02-12T12:54:46.738942Z",
     "start_time": "2025-02-12T12:54:46.736866Z"
    }
   },
   "cell_type": "code",
   "source": "device",
   "id": "53a111cba90abeb9",
   "outputs": [
    {
     "data": {
      "text/plain": [
       "device(type='mps')"
      ]
     },
     "execution_count": 53,
     "metadata": {},
     "output_type": "execute_result"
    }
   ],
   "execution_count": 53
  },
  {
   "metadata": {
    "ExecuteTime": {
     "end_time": "2025-02-12T12:54:46.759724Z",
     "start_time": "2025-02-12T12:54:46.757571Z"
    }
   },
   "cell_type": "code",
   "source": [
    "def load_model(device):\n",
    "    theme_classifier = pipeline(\n",
    "        \"zero-shot-classification\",\n",
    "        model=model_name,\n",
    "        device=device\n",
    "    )\n",
    "\n",
    "    return theme_classifier"
   ],
   "id": "1459f0a00c30022e",
   "outputs": [],
   "execution_count": 54
  },
  {
   "metadata": {
    "ExecuteTime": {
     "end_time": "2025-02-12T12:54:57.907779Z",
     "start_time": "2025-02-12T12:54:46.766380Z"
    }
   },
   "cell_type": "code",
   "source": "theme_classifier = load_model(device)",
   "id": "f86e812b3384a21d",
   "outputs": [
    {
     "name": "stderr",
     "output_type": "stream",
     "text": [
      "Device set to use mps\n"
     ]
    }
   ],
   "execution_count": 55
  },
  {
   "metadata": {
    "ExecuteTime": {
     "end_time": "2025-02-12T12:54:59.171290Z",
     "start_time": "2025-02-12T12:54:59.165358Z"
    }
   },
   "cell_type": "code",
   "source": [
    "# friendship,hope,sacrifice,battle,self development,betrayal,love,dialogue\n",
    "theme_list = [\"friendship\",\"hope\",\"sacrifice\",\"battle\",\"self development\",\"betrayal\",\"love\",\"dialogue\"]"
   ],
   "id": "26aa2e8551f64876",
   "outputs": [],
   "execution_count": 56
  },
  {
   "metadata": {
    "ExecuteTime": {
     "end_time": "2025-02-12T12:55:00.155477Z",
     "start_time": "2025-02-12T12:54:59.375869Z"
    }
   },
   "cell_type": "code",
   "source": [
    "theme_classifier(\n",
    "    \"Whatever you do, I'll be there to protect you. Because i love you!\",\n",
    "    theme_list,\n",
    "    multi_label=True\n",
    ")"
   ],
   "id": "55826a07dd63f433",
   "outputs": [
    {
     "data": {
      "text/plain": [
       "{'sequence': \"Whatever you do, I'll be there to protect you. Because i love you!\",\n",
       " 'labels': ['love',\n",
       "  'friendship',\n",
       "  'hope',\n",
       "  'dialogue',\n",
       "  'battle',\n",
       "  'sacrifice',\n",
       "  'self development',\n",
       "  'betrayal'],\n",
       " 'scores': [0.9887236952781677,\n",
       "  0.9177343249320984,\n",
       "  0.7708843946456909,\n",
       "  0.35626059770584106,\n",
       "  0.32752370834350586,\n",
       "  0.31730833649635315,\n",
       "  0.2502117156982422,\n",
       "  0.0066137490794062614]}"
      ]
     },
     "execution_count": 57,
     "metadata": {},
     "output_type": "execute_result"
    }
   ],
   "execution_count": 57
  },
  {
   "metadata": {
    "ExecuteTime": {
     "end_time": "2025-02-12T12:55:00.166663Z",
     "start_time": "2025-02-12T12:55:00.162854Z"
    }
   },
   "cell_type": "code",
   "source": "files = glob.glob(\"../data/Subtitles/*.ass\")",
   "id": "129f117ac8b27327",
   "outputs": [],
   "execution_count": 58
  },
  {
   "metadata": {
    "ExecuteTime": {
     "end_time": "2025-02-12T12:55:00.183713Z",
     "start_time": "2025-02-12T12:55:00.180267Z"
    }
   },
   "cell_type": "code",
   "source": "files[:5]",
   "id": "e860a00db0c93a74",
   "outputs": [
    {
     "data": {
      "text/plain": [
       "['../data/Subtitles/Naruto Season 4 - 94.ass',\n",
       " '../data/Subtitles/Naruto Season 4 - 80.ass',\n",
       " '../data/Subtitles/Naruto Season 2 - 32.ass',\n",
       " '../data/Subtitles/Naruto Season 8 - 185.ass',\n",
       " '../data/Subtitles/Naruto Season 8 - 191.ass']"
      ]
     },
     "execution_count": 59,
     "metadata": {},
     "output_type": "execute_result"
    }
   ],
   "execution_count": 59
  },
  {
   "metadata": {
    "ExecuteTime": {
     "end_time": "2025-02-12T12:55:00.203964Z",
     "start_time": "2025-02-12T12:55:00.200321Z"
    }
   },
   "cell_type": "code",
   "source": [
    "with open(files[0],'r') as f:\n",
    "    lines = f.readlines()\n",
    "    lines = lines[27:]\n",
    "    lines = [\",\".join(line.split(',')[9:]) for line in lines]"
   ],
   "id": "67723ba6e48fde66",
   "outputs": [],
   "execution_count": 60
  },
  {
   "metadata": {
    "ExecuteTime": {
     "end_time": "2025-02-12T12:55:00.221878Z",
     "start_time": "2025-02-12T12:55:00.219394Z"
    }
   },
   "cell_type": "code",
   "source": "lines[:2]",
   "id": "15e88d1162e1c6bb",
   "outputs": [
    {
     "data": {
      "text/plain": [
       "['We are Fighting Dreamers aiming high\\n',\n",
       " \"Fighting Dreamers\\\\Ndon't care what people think about them\\n\"]"
      ]
     },
     "execution_count": 61,
     "metadata": {},
     "output_type": "execute_result"
    }
   ],
   "execution_count": 61
  },
  {
   "metadata": {
    "ExecuteTime": {
     "end_time": "2025-02-12T12:55:00.253700Z",
     "start_time": "2025-02-12T12:55:00.251648Z"
    }
   },
   "cell_type": "code",
   "source": "lines = [line.replace('\\\\N',' ') for line in lines]",
   "id": "2d939f4da29e7b8e",
   "outputs": [],
   "execution_count": 62
  },
  {
   "metadata": {
    "ExecuteTime": {
     "end_time": "2025-02-12T12:55:00.265095Z",
     "start_time": "2025-02-12T12:55:00.263045Z"
    }
   },
   "cell_type": "code",
   "source": "lines[:2]",
   "id": "534e364635ab9853",
   "outputs": [
    {
     "data": {
      "text/plain": [
       "['We are Fighting Dreamers aiming high\\n',\n",
       " \"Fighting Dreamers don't care what people think about them\\n\"]"
      ]
     },
     "execution_count": 63,
     "metadata": {},
     "output_type": "execute_result"
    }
   ],
   "execution_count": 63
  },
  {
   "metadata": {
    "ExecuteTime": {
     "end_time": "2025-02-12T12:55:00.292195Z",
     "start_time": "2025-02-12T12:55:00.289589Z"
    }
   },
   "cell_type": "code",
   "source": "int(files[0].split('-')[-1].split('.')[0].strip())",
   "id": "2dc67b07c92ed567",
   "outputs": [
    {
     "data": {
      "text/plain": [
       "94"
      ]
     },
     "execution_count": 64,
     "metadata": {},
     "output_type": "execute_result"
    }
   ],
   "execution_count": 64
  },
  {
   "metadata": {
    "ExecuteTime": {
     "end_time": "2025-02-12T12:55:00.309558Z",
     "start_time": "2025-02-12T12:55:00.306328Z"
    }
   },
   "cell_type": "code",
   "source": [
    "def load_subtitles_dataset(dataset_path):\n",
    "    subtitles_paths = glob.glob(dataset_path + '/*.ass')\n",
    "\n",
    "    scripts = []\n",
    "    episode_num = []\n",
    "\n",
    "    for path in subtitles_paths:\n",
    "\n",
    "        # Read lines\n",
    "        with open(path,'r') as f:\n",
    "            lines = f.readlines()\n",
    "            lines = lines[27:]\n",
    "            lines = [\",\".join(line.split(',')[9:]) for line in lines]\n",
    "\n",
    "        lines = [line.replace('\\\\N','') for line in lines]\n",
    "        script = \" \".join(lines)\n",
    "\n",
    "        episode = int(path.split('-')[-1].split('.')[0].strip())\n",
    "\n",
    "        scripts.append(script)\n",
    "        episode_num.append(episode)\n",
    "\n",
    "    df = pd.DataFrame.from_dict({\"episode\":episode_num,\"script\":scripts})\n",
    "    return df\n"
   ],
   "id": "f4ee0d24e3a52b1b",
   "outputs": [],
   "execution_count": 65
  },
  {
   "metadata": {
    "ExecuteTime": {
     "end_time": "2025-02-12T12:55:00.429345Z",
     "start_time": "2025-02-12T12:55:00.322339Z"
    }
   },
   "cell_type": "code",
   "source": [
    "dataset_path = \"../data/Subtitles/\"\n",
    "df = load_subtitles_dataset(dataset_path)"
   ],
   "id": "f4f25b5fcceb3b9d",
   "outputs": [],
   "execution_count": 66
  },
  {
   "metadata": {
    "ExecuteTime": {
     "end_time": "2025-02-12T12:55:00.448483Z",
     "start_time": "2025-02-12T12:55:00.443206Z"
    }
   },
   "cell_type": "code",
   "source": "df.head()",
   "id": "d0e6215251c7d61f",
   "outputs": [
    {
     "data": {
      "text/plain": [
       "   episode                                             script\n",
       "0       94  We are Fighting Dreamers aiming high\\n Fightin...\n",
       "1       80  We are Fighting Dreamers aiming high\\n Fightin...\n",
       "2       32  Press down hard on the gas\\n That’s right, the...\n",
       "3      185  Rock away your existence,\\n Shouting that you ...\n",
       "4      191  Rock away your existence,\\n Shouting that you ..."
      ],
      "text/html": [
       "<div>\n",
       "<style scoped>\n",
       "    .dataframe tbody tr th:only-of-type {\n",
       "        vertical-align: middle;\n",
       "    }\n",
       "\n",
       "    .dataframe tbody tr th {\n",
       "        vertical-align: top;\n",
       "    }\n",
       "\n",
       "    .dataframe thead th {\n",
       "        text-align: right;\n",
       "    }\n",
       "</style>\n",
       "<table border=\"1\" class=\"dataframe\">\n",
       "  <thead>\n",
       "    <tr style=\"text-align: right;\">\n",
       "      <th></th>\n",
       "      <th>episode</th>\n",
       "      <th>script</th>\n",
       "    </tr>\n",
       "  </thead>\n",
       "  <tbody>\n",
       "    <tr>\n",
       "      <th>0</th>\n",
       "      <td>94</td>\n",
       "      <td>We are Fighting Dreamers aiming high\\n Fightin...</td>\n",
       "    </tr>\n",
       "    <tr>\n",
       "      <th>1</th>\n",
       "      <td>80</td>\n",
       "      <td>We are Fighting Dreamers aiming high\\n Fightin...</td>\n",
       "    </tr>\n",
       "    <tr>\n",
       "      <th>2</th>\n",
       "      <td>32</td>\n",
       "      <td>Press down hard on the gas\\n That’s right, the...</td>\n",
       "    </tr>\n",
       "    <tr>\n",
       "      <th>3</th>\n",
       "      <td>185</td>\n",
       "      <td>Rock away your existence,\\n Shouting that you ...</td>\n",
       "    </tr>\n",
       "    <tr>\n",
       "      <th>4</th>\n",
       "      <td>191</td>\n",
       "      <td>Rock away your existence,\\n Shouting that you ...</td>\n",
       "    </tr>\n",
       "  </tbody>\n",
       "</table>\n",
       "</div>"
      ]
     },
     "execution_count": 67,
     "metadata": {},
     "output_type": "execute_result"
    }
   ],
   "execution_count": 67
  },
  {
   "metadata": {
    "ExecuteTime": {
     "end_time": "2025-02-12T12:55:00.486979Z",
     "start_time": "2025-02-12T12:55:00.485253Z"
    }
   },
   "cell_type": "code",
   "source": "script = df.iloc[0][\"script\"]",
   "id": "af22755f599145d0",
   "outputs": [],
   "execution_count": 68
  },
  {
   "metadata": {
    "ExecuteTime": {
     "end_time": "2025-02-12T12:55:00.542799Z",
     "start_time": "2025-02-12T12:55:00.540814Z"
    }
   },
   "cell_type": "code",
   "source": "script",
   "id": "4293415abc0f981e",
   "outputs": [
    {
     "data": {
      "text/plain": [
       "'We are Fighting Dreamers aiming high\\n Fighting Dreamersdon\\'t care what people think about them\\n Fighting Dreamersfollow what they believe\\n Oli Oli Oli Oh! Just go my way\\n Right here right now (Bang)Hit it straight like a line drive!\\n Right here right now (Burn)\\n Down a difficult roadfilled with endless struggles\\n Where do you think you are goingfollowing someone else\\'s map?\\n An insightful crow comes alongto tear up the map\\n Now open your eyes andtake a look at the truth (Yeah!)\\n There\\'s nothing to lose,so let\\'s GO!!!\\n We are Fighting Dreamers aiming high\\n Fighting Dreamersdon\\'t care what people think about them\\n Fighting Dreamersfollow what they believe\\n Oli Oli Oli Oh!Just go my way\\n Right here right now (Bang)Hit it straight like a line drive!\\n Right here right now (Burn)We\\'re gonna do it and do our best!\\n Right here right now (Bang)Hit it straight like a line drive!\\n Right here right now (Burn)We\\'re gonna do it and do our best! BANG!\\n My body movementshave finally returned…\\n Blood…\\n Lady Tsunade!\\n Say! Say! What’s happening?!\\n Why’s Kabuto fightingwith Old Lady Tsunade?!\\n Take a good look at the headband!\\n He’s Orochimaru’s subordinate.\\n Attack! Fury of the Rasengan!\\n That man is Orochimaru…\\n Shizune, you take care ofthe guy with the glasses…\\n I’ll take care of Orochimaru.\\n Before that, I’d like to have Tsunadedo something about this body.\\n The effects of that drugmight still last for awhile…\\n There’s nothing thatI can do about it.\\n What? Really?\\n Geez. I guess it can’t be helped.\\n I have no choicebut to fight in this condition.\\n Tsunade… Rest your bodywith Recovery Ninjutsu.\\n Then… What about me, me?\\n You guard Tsunade togetherwith that pig.\\n What?! I want to fight, too.Even I can--\\n No, you won’t!\\n Like that four-eyed kid said, right?\\n You’re on a different level.\\n The opponent is a Sannin like myself,\\n and the man who killedthe Third Hokage.\\n An eye for an eye…I’m the only one who can fight him.\\n And that four-eyed guy possessesthe same level of power as Kakashi.\\n Okay.\\n Then… Shadow Clo--\\n Hold it!\\n Don’t use the Shadow Clone Jutsu.lt’d be utterly pointless.\\n What?\\n It wouldn’t even becomemuch of a diversion…\\n It’d be a waste of Chakra…\\n with them as opponents.\\n Now then, let’s get this thing started.\\n – Summoning Jutsu.– Summoning Jutsu.\\n Hi.\\n – Huh?! \\t\\t\\t\\t\\t– What is this?!\\n – Wha--?!– What the heck’s going on?!\\n Long time no see.\\n On account of the drug,\\n Master Jiraiya still can’t build upChakra very well.\\n It looks like your stupidstill hasn’t healed, eh, Jiraiya.\\n That’s too much even for youwith no ability.\\n It seems Tsunade got youwith something.\\n A sacrifice was necessary for that Jutsu,\\n so perhaps she was thinking aheadand drugged him\\n with something thatwould contain his power.\\n To think she’d makea sacrifice of Jiraiya…\\n Well, it sounds just like Tsunade.\\n To think I’d already havemy handicap spotted.\\n You are sucha disgraceful guy as always…\\n Dang it. It kind of ticks me offwhen the Pervy Sage is mocked.\\n Summoning…Jutsu!\\n The Nine-Tailed Fox kidfrom the Chunin Exam.\\n I wonder if I should’ve killed him then,after all.\\n For the sake of the Akatsuki organization,\\n I acknowledged his achievement…and let him slide by.\\n But the only ones who can breaka Five-Pronged Spell\\n are the Sannin membersand the Third Hokage.\\n Which means Jiraiya may havealready taught it to Naruto.\\n Perhaps.\\n If he’s able to controlthe Nine-Tailed Fox’s power…\\n Oh…\\n Th-This is…\\n It doesn’t quite look to be so.\\n He isn’t endowed with Shinobi abilityto begin with, so…\\n Why?\\n He’s still got a long way to go,sure enough.\\n Why?!\\n Hello.\\n Hey, Gamatatsu.Why did you come out?\\n Oh, Brother Gamakichi.\\n It’s the first time I’ve been Summoned.\\n I-I wonder if I can do my best?\\n Idiot. Get some snacksor something and hide.\\n What? I can get snacks?Goody-goody.\\n Here I go.\\n I’ll take Jiraiya.\\n I leave the rest to you.\\n It’s unfortunate…\\n Here I also wanted to fight Lord Jiraiya,one of the Sannin.\\n Naruto!\\n Your opponent is me.\\n Earth Style! Dark Swamp!\\n Dang it. I can’t completely sink themwith such a puny swamp.\\n The drug is still working.\\n But…with this, the snakes can’t move.\\n Ninja Art! Poison Fog!\\n I’ll be up a creek ifI take even one breath.\\n My leg tendons…!\\n I won’t be eaten twice…!No way!\\n Here I go.\\n Ninja Art! Needle Jizo!\\n Dang it…The Jutsu isn’t working well.\\n Even if we both have handicaps,you won’t one-up me…\\n Give up now.\\n It’s unfortunate…\\n Here I had respected youas a fellow Medical Ninja.\\n Stop. Stay back!\\n Please hang on, Lady Tsunade…\\n The Sannin name, which Lord Orochimaruis also called, will cry.\\n My body’s heavy.\\n To think you who wereonce called the village madness\\n would ferry around such a kidand struggle tirelessly for the village.\\n You’ve really fallen, haven’t you?\\n I have a keen eye to discern ability.\\n And that kid…is mediocrity in my eyes.\\n It’s precisely for this reason…that I don’t need the Uchiha kid.\\n It’s no fun raising a geniuswho’s good from the start.\\n So you can’t leave him alone\\n because it’s like you’re lookingat your old self?\\n That kid can’t beat Uchiha who inheritedthe inherent Sharingan Shinobi skill.\\n And that’s because Narutodoesn’t possess the Sharingan.\\n Shinobi ability is about whether\\n one can use and masterall the Jutsu of the world.\\n Ninja refers to onewho can use Ninjutsu.\\n Shinobi ability is no such thing.\\n You still don’t get it?\\n A Ninja…is one who endures.\\n It’s a difference of opinion, huh.\\n I’ll teach you one thing.\\n What’s most important for Shinobi ability…\\n isn’t the number of Jutsuone possesses.\\n What’s important is…\\n The mettle…\\n not to give up.\\n Enough already…you jerk!\\n The mettle to never give up…\\n He possesses that.\\n Heh. I don’t know what Jutsu you learned,\\n but you can’t hit me withsuch a large motion.\\n No good.\\n It won’t easily hit witha moving opponent.\\n Owwee!\\n And the Chakra isn’tcompletely held, yet…\\n It seems you got a cracked thigh bonein your left leg\\n from the battle with the snake.\\n Well, you can still move ifit’s just the bone.\\n But it’s impossible now…\\n The lateral vastus musclein your right leg is totally cut off.\\n What should I do…?\\n That Jutsu of mine uses both hands.\\n If even one arm is taken out, it’s over.\\n Are you scared of me?\\n Do you want to run away from here?\\n Naruto, as I recall,\\n you whooped it up like thisduring the first Chunin Exam.\\n Don’t mess with me. I won’t run away!\\n \"Don’t mess with me. I won’t run away.\"\\n \"I’ll take it. Even if I’m a Genin for life…\"\\n \"I’ll become the Hokage at any cost,so it’s okay with me.\"\\n \"I’m not scared.\"\\n Can you…whoop it up in the same way now?\\n Unlike you…\\n I will be the heir to the Hokage nameno matter what!\\n – Hokage is my dream!– Hokage is my dream!\\n You’re not a kid anymore,so you should stop whooping it up…\\n Depending on the situation,\\n when you want to give up and run away,you should run away.\\n Oh my… What’s with that look?\\n You’ll die! If you die,there are no dreams or anything…\\n Do you want to die?\\n You’re still a Genin,so you should run away on the battlefield.\\n Don’t tell a man to run away.\\n Kids think that everything is easy.\\n That’s why they talk about foolish dreamslike nothing at all.\\n That’s why they can’t give up.\\n Jiraiya, was it youwho taught him that Rasengan?\\n Are you acting like a teacher by teachinga Jutsu that can’t be learned?\\n Don’t give him false hopes.\\n That’s why a moony kid starts jokingthat he’ll become the Hokage!\\n They chase after foolish dreams…and then die.\\n If I have three days,I’ll master that Jutsu.\\n Then let\\'s make a bet.\\n Bastard!\\n As for me… I stand by my words.\\n That’s…my Way of Ninja!\\n A bet?\\n I’ll give you one week.\\n If you can master that Jutsu,\\n I’ll acknowledge thatyou’ll be able to become the Hokage…\\n and give you this necklace.\\n You should’ve juststayed out of this…\\n Why?\\n Why?!\\n Old Lady Tsunade…\\n You’re still going to get up?\\n Just like our wager\\n I will definitely winthat unlucky necklace from you.\\n Shadow Clone Jutsu!\\n Shadow Clone won’t do anything now.\\n Enough… Don’t protect me, Naruto.Stop it!\\n I told you that you’d dieif you were obstinate like that, right?\\n If you die, there will be no dreams,no nothing.\\n Just get out of the way. Run away.\\n Humph… It’s okay.\\n I…\\n I absolutely will not die…\\n until I become the Hokage!\\n This way, I can hold on to you.Here I go!\\n It’s the same Chakra movementas before.\\n No, this is…different.\\n I see.\\n In order to gain a handfor suppressing Chakra,\\n the Shadow Clone…\\n Compress Chakra and…\\n hold it completely.\\n Wha--?!\\n I-It can’t be.\\n Rasengan!\\n I believe your promise,its a true heart give me courage\\n Always I feel itthe precious time with you\\n On your still shoulder\\n I feel the wind that blowstowards tomorrow\\n The city lights are like pieces of stars\\n That hold us together\\n “Each one of us glows differently,”\\n you say laughingly\\n but you look most dazzling\\n Like a comet,\\n like the rainbow after the storm\\n You bring light into my heart\\n Being lost can be the answer\\n Let’s promise we won’t cheat\\n Uh... like a shooting star,we do go ahead.\\n I never forget my ideal…\\n to develop the Village Hidden in the Leafand protect its people.\\n The Hokages have sacrificedtheir lives for that dream.\\n And now,I also will put my life on the line.\\n From this moment,I am the Fifth Hokage!\\n Next time: \"The Fifth Hokage!A Life on the Line!\"\\n'"
      ]
     },
     "execution_count": 69,
     "metadata": {},
     "output_type": "execute_result"
    }
   ],
   "execution_count": 69
  },
  {
   "metadata": {
    "ExecuteTime": {
     "end_time": "2025-02-12T12:55:00.589285Z",
     "start_time": "2025-02-12T12:55:00.581602Z"
    }
   },
   "cell_type": "code",
   "source": "script_sentences = sent_tokenize(script)",
   "id": "ad1484bf104ab069",
   "outputs": [],
   "execution_count": 70
  },
  {
   "metadata": {
    "ExecuteTime": {
     "end_time": "2025-02-12T12:55:00.610483Z",
     "start_time": "2025-02-12T12:55:00.607914Z"
    }
   },
   "cell_type": "code",
   "source": [
    "# Batch Sentence\n",
    "sentence_batch_size = 20\n",
    "script_batches = []\n",
    "for index in range(0, len(script_sentences), sentence_batch_size):\n",
    "    sent = \" \".join(script_sentences[index:index+sentence_batch_size])\n",
    "    script_batches.append(sent)"
   ],
   "id": "65258f9ce57569c3",
   "outputs": [],
   "execution_count": 71
  },
  {
   "metadata": {
    "ExecuteTime": {
     "end_time": "2025-02-12T12:55:00.637187Z",
     "start_time": "2025-02-12T12:55:00.634497Z"
    }
   },
   "cell_type": "code",
   "source": "script_batches[1]",
   "id": "53d847526811530a",
   "outputs": [
    {
     "data": {
      "text/plain": [
       "'Before that, I’d like to have Tsunadedo something about this body. The effects of that drugmight still last for awhile…\\n There’s nothing thatI can do about it. What? Really? Geez. I guess it can’t be helped. I have no choicebut to fight in this condition. Tsunade… Rest your bodywith Recovery Ninjutsu. Then… What about me, me? You guard Tsunade togetherwith that pig. What?! I want to fight, too.Even I can--\\n No, you won’t! Like that four-eyed kid said, right? You’re on a different level. The opponent is a Sannin like myself,\\n and the man who killedthe Third Hokage. An eye for an eye…I’m the only one who can fight him. And that four-eyed guy possessesthe same level of power as Kakashi. Okay. Then… Shadow Clo--\\n Hold it! Don’t use the Shadow Clone Jutsu.lt’d be utterly pointless.'"
      ]
     },
     "execution_count": 72,
     "metadata": {},
     "output_type": "execute_result"
    }
   ],
   "execution_count": 72
  },
  {
   "metadata": {
    "ExecuteTime": {
     "end_time": "2025-02-12T12:55:09.075510Z",
     "start_time": "2025-02-12T12:55:00.655673Z"
    }
   },
   "cell_type": "code",
   "source": [
    "theme_output = theme_classifier(\n",
    "    script_batches[:2],\n",
    "    theme_list,\n",
    "    multi_label=True\n",
    ")"
   ],
   "id": "f7a834217a15e017",
   "outputs": [],
   "execution_count": 73
  },
  {
   "metadata": {
    "ExecuteTime": {
     "end_time": "2025-02-12T12:55:10.145465Z",
     "start_time": "2025-02-12T12:55:10.138793Z"
    }
   },
   "cell_type": "code",
   "source": "theme_output",
   "id": "dbcf0eb9b2400ef",
   "outputs": [
    {
     "data": {
      "text/plain": [
       "[{'sequence': \"We are Fighting Dreamers aiming high\\n Fighting Dreamersdon't care what people think about them\\n Fighting Dreamersfollow what they believe\\n Oli Oli Oli Oh! Just go my way\\n Right here right now (Bang)Hit it straight like a line drive! Right here right now (Burn)\\n Down a difficult roadfilled with endless struggles\\n Where do you think you are goingfollowing someone else's map? An insightful crow comes alongto tear up the map\\n Now open your eyes andtake a look at the truth (Yeah!) There's nothing to lose,so let's GO!!! We are Fighting Dreamers aiming high\\n Fighting Dreamersdon't care what people think about them\\n Fighting Dreamersfollow what they believe\\n Oli Oli Oli Oh!Just go my way\\n Right here right now (Bang)Hit it straight like a line drive! Right here right now (Burn)We're gonna do it and do our best! Right here right now (Bang)Hit it straight like a line drive! Right here right now (Burn)We're gonna do it and do our best! BANG! My body movementshave finally returned…\\n Blood…\\n Lady Tsunade! Say! Say! What’s happening?! Why’s Kabuto fightingwith Old Lady Tsunade?! Take a good look at the headband! He’s Orochimaru’s subordinate. Attack! Fury of the Rasengan! That man is Orochimaru…\\n Shizune, you take care ofthe guy with the glasses…\\n I’ll take care of Orochimaru.\",\n",
       "  'labels': ['battle',\n",
       "   'dialogue',\n",
       "   'self development',\n",
       "   'betrayal',\n",
       "   'sacrifice',\n",
       "   'hope',\n",
       "   'friendship',\n",
       "   'love'],\n",
       "  'scores': [0.92732834815979,\n",
       "   0.9269300103187561,\n",
       "   0.8707112073898315,\n",
       "   0.7225542664527893,\n",
       "   0.6511306166648865,\n",
       "   0.277911514043808,\n",
       "   0.049075085669755936,\n",
       "   0.030682893469929695]},\n",
       " {'sequence': 'Before that, I’d like to have Tsunadedo something about this body. The effects of that drugmight still last for awhile…\\n There’s nothing thatI can do about it. What? Really? Geez. I guess it can’t be helped. I have no choicebut to fight in this condition. Tsunade… Rest your bodywith Recovery Ninjutsu. Then… What about me, me? You guard Tsunade togetherwith that pig. What?! I want to fight, too.Even I can--\\n No, you won’t! Like that four-eyed kid said, right? You’re on a different level. The opponent is a Sannin like myself,\\n and the man who killedthe Third Hokage. An eye for an eye…I’m the only one who can fight him. And that four-eyed guy possessesthe same level of power as Kakashi. Okay. Then… Shadow Clo--\\n Hold it! Don’t use the Shadow Clone Jutsu.lt’d be utterly pointless.',\n",
       "  'labels': ['battle',\n",
       "   'sacrifice',\n",
       "   'dialogue',\n",
       "   'betrayal',\n",
       "   'self development',\n",
       "   'hope',\n",
       "   'friendship',\n",
       "   'love'],\n",
       "  'scores': [0.913031280040741,\n",
       "   0.8959170579910278,\n",
       "   0.8264161348342896,\n",
       "   0.7793009281158447,\n",
       "   0.6658855676651001,\n",
       "   0.11823979020118713,\n",
       "   0.11658142507076263,\n",
       "   0.04783695936203003]}]"
      ]
     },
     "execution_count": 74,
     "metadata": {},
     "output_type": "execute_result"
    }
   ],
   "execution_count": 74
  },
  {
   "metadata": {
    "ExecuteTime": {
     "end_time": "2025-02-12T12:55:10.474697Z",
     "start_time": "2025-02-12T12:55:10.469354Z"
    }
   },
   "cell_type": "code",
   "source": [
    "themes = {}\n",
    "for theme in theme_output:\n",
    "    for label, score in zip(theme['labels'], theme['scores']):\n",
    "        if label not in themes:\n",
    "            themes[label] = []\n",
    "        themes[label].append(score)"
   ],
   "id": "9abafe427dcdd4ea",
   "outputs": [],
   "execution_count": 75
  },
  {
   "metadata": {
    "ExecuteTime": {
     "end_time": "2025-02-12T12:55:10.774968Z",
     "start_time": "2025-02-12T12:55:10.542994Z"
    }
   },
   "cell_type": "code",
   "source": "themes = {key: np.mean(np.array(value)) for key, value in themes.items()}",
   "id": "b0bca74d91ef7346",
   "outputs": [],
   "execution_count": 76
  },
  {
   "metadata": {
    "ExecuteTime": {
     "end_time": "2025-02-12T12:55:10.799470Z",
     "start_time": "2025-02-12T12:55:10.796088Z"
    }
   },
   "cell_type": "code",
   "source": "themes",
   "id": "9d59ec31921c089d",
   "outputs": [
    {
     "data": {
      "text/plain": [
       "{'battle': np.float64(0.9201798141002655),\n",
       " 'dialogue': np.float64(0.8766730725765228),\n",
       " 'self development': np.float64(0.7682983875274658),\n",
       " 'betrayal': np.float64(0.750927597284317),\n",
       " 'sacrifice': np.float64(0.7735238373279572),\n",
       " 'hope': np.float64(0.19807565212249756),\n",
       " 'friendship': np.float64(0.08282825537025928),\n",
       " 'love': np.float64(0.03925992641597986)}"
      ]
     },
     "execution_count": 77,
     "metadata": {},
     "output_type": "execute_result"
    }
   ],
   "execution_count": 77
  },
  {
   "metadata": {
    "ExecuteTime": {
     "end_time": "2025-02-12T12:55:10.858321Z",
     "start_time": "2025-02-12T12:55:10.853199Z"
    }
   },
   "cell_type": "code",
   "source": [
    "def get_themes_inference(script):\n",
    "    script_sentences = sent_tokenize(script)\n",
    "\n",
    "    # Batch Sentence\n",
    "    sentence_batch_size = 20\n",
    "    script_batches = []\n",
    "    for index in range(0, len(script_sentences), sentence_batch_size):\n",
    "        sent = \" \".join(script_sentences[index:index+sentence_batch_size])\n",
    "        script_batches.append(sent)\n",
    "\n",
    "    # Run Model\n",
    "    theme_output = theme_classifier(\n",
    "        script_batches[:2],\n",
    "        theme_list,\n",
    "        multi_label=True\n",
    "    )\n",
    "\n",
    "    # Wrangle output\n",
    "    themes = {}\n",
    "    for theme in theme_output:\n",
    "        for label, score in zip(theme['labels'], theme['scores']):\n",
    "            if label not in themes:\n",
    "                themes[label] = []\n",
    "            themes[label].append(score)\n",
    "\n",
    "    themes = {key: np.mean(np.array(value)) for key, value in themes.items()}\n",
    "\n",
    "    return themes\n"
   ],
   "id": "5f751728c392331a",
   "outputs": [],
   "execution_count": 78
  },
  {
   "metadata": {
    "ExecuteTime": {
     "end_time": "2025-02-12T12:55:10.916335Z",
     "start_time": "2025-02-12T12:55:10.910704Z"
    }
   },
   "cell_type": "code",
   "source": "df = df.head(2)",
   "id": "59da5929a40b59cc",
   "outputs": [],
   "execution_count": 79
  },
  {
   "metadata": {
    "ExecuteTime": {
     "end_time": "2025-02-12T12:55:10.949533Z",
     "start_time": "2025-02-12T12:55:10.945130Z"
    }
   },
   "cell_type": "code",
   "source": "df",
   "id": "2ea9bdd2774b7f22",
   "outputs": [
    {
     "data": {
      "text/plain": [
       "   episode                                             script\n",
       "0       94  We are Fighting Dreamers aiming high\\n Fightin...\n",
       "1       80  We are Fighting Dreamers aiming high\\n Fightin..."
      ],
      "text/html": [
       "<div>\n",
       "<style scoped>\n",
       "    .dataframe tbody tr th:only-of-type {\n",
       "        vertical-align: middle;\n",
       "    }\n",
       "\n",
       "    .dataframe tbody tr th {\n",
       "        vertical-align: top;\n",
       "    }\n",
       "\n",
       "    .dataframe thead th {\n",
       "        text-align: right;\n",
       "    }\n",
       "</style>\n",
       "<table border=\"1\" class=\"dataframe\">\n",
       "  <thead>\n",
       "    <tr style=\"text-align: right;\">\n",
       "      <th></th>\n",
       "      <th>episode</th>\n",
       "      <th>script</th>\n",
       "    </tr>\n",
       "  </thead>\n",
       "  <tbody>\n",
       "    <tr>\n",
       "      <th>0</th>\n",
       "      <td>94</td>\n",
       "      <td>We are Fighting Dreamers aiming high\\n Fightin...</td>\n",
       "    </tr>\n",
       "    <tr>\n",
       "      <th>1</th>\n",
       "      <td>80</td>\n",
       "      <td>We are Fighting Dreamers aiming high\\n Fightin...</td>\n",
       "    </tr>\n",
       "  </tbody>\n",
       "</table>\n",
       "</div>"
      ]
     },
     "execution_count": 80,
     "metadata": {},
     "output_type": "execute_result"
    }
   ],
   "execution_count": 80
  },
  {
   "metadata": {
    "ExecuteTime": {
     "end_time": "2025-02-12T12:55:22.012276Z",
     "start_time": "2025-02-12T12:55:11.019204Z"
    }
   },
   "cell_type": "code",
   "source": "output_themes = df[\"script\"].apply(get_themes_inference)",
   "id": "71acfc1cfebbdd09",
   "outputs": [],
   "execution_count": 81
  },
  {
   "metadata": {
    "ExecuteTime": {
     "end_time": "2025-02-12T12:55:23.804387Z",
     "start_time": "2025-02-12T12:55:23.754411Z"
    }
   },
   "cell_type": "code",
   "source": "output_themes",
   "id": "36e5b6c6459d7420",
   "outputs": [
    {
     "data": {
      "text/plain": [
       "0    {'battle': 0.9201798141002655, 'dialogue': 0.8...\n",
       "1    {'dialogue': 0.9497761130332947, 'battle': 0.9...\n",
       "Name: script, dtype: object"
      ]
     },
     "execution_count": 82,
     "metadata": {},
     "output_type": "execute_result"
    }
   ],
   "execution_count": 82
  },
  {
   "metadata": {
    "ExecuteTime": {
     "end_time": "2025-02-12T12:55:24.193337Z",
     "start_time": "2025-02-12T12:55:24.136139Z"
    }
   },
   "cell_type": "code",
   "source": "themes_df = pd.DataFrame(output_themes.tolist())",
   "id": "4c7c6d687be3ea40",
   "outputs": [],
   "execution_count": 83
  },
  {
   "metadata": {
    "ExecuteTime": {
     "end_time": "2025-02-12T12:55:24.277692Z",
     "start_time": "2025-02-12T12:55:24.266492Z"
    }
   },
   "cell_type": "code",
   "source": "themes_df",
   "id": "9eed384c29cdc585",
   "outputs": [
    {
     "data": {
      "text/plain": [
       "    battle  dialogue  self development  betrayal  sacrifice      hope  \\\n",
       "0  0.92018  0.876673          0.768298  0.750928   0.773524  0.198076   \n",
       "1  0.91695  0.949776          0.661953  0.685841   0.666984  0.402813   \n",
       "\n",
       "   friendship      love  \n",
       "0    0.082828  0.039260  \n",
       "1    0.147897  0.045928  "
      ],
      "text/html": [
       "<div>\n",
       "<style scoped>\n",
       "    .dataframe tbody tr th:only-of-type {\n",
       "        vertical-align: middle;\n",
       "    }\n",
       "\n",
       "    .dataframe tbody tr th {\n",
       "        vertical-align: top;\n",
       "    }\n",
       "\n",
       "    .dataframe thead th {\n",
       "        text-align: right;\n",
       "    }\n",
       "</style>\n",
       "<table border=\"1\" class=\"dataframe\">\n",
       "  <thead>\n",
       "    <tr style=\"text-align: right;\">\n",
       "      <th></th>\n",
       "      <th>battle</th>\n",
       "      <th>dialogue</th>\n",
       "      <th>self development</th>\n",
       "      <th>betrayal</th>\n",
       "      <th>sacrifice</th>\n",
       "      <th>hope</th>\n",
       "      <th>friendship</th>\n",
       "      <th>love</th>\n",
       "    </tr>\n",
       "  </thead>\n",
       "  <tbody>\n",
       "    <tr>\n",
       "      <th>0</th>\n",
       "      <td>0.92018</td>\n",
       "      <td>0.876673</td>\n",
       "      <td>0.768298</td>\n",
       "      <td>0.750928</td>\n",
       "      <td>0.773524</td>\n",
       "      <td>0.198076</td>\n",
       "      <td>0.082828</td>\n",
       "      <td>0.039260</td>\n",
       "    </tr>\n",
       "    <tr>\n",
       "      <th>1</th>\n",
       "      <td>0.91695</td>\n",
       "      <td>0.949776</td>\n",
       "      <td>0.661953</td>\n",
       "      <td>0.685841</td>\n",
       "      <td>0.666984</td>\n",
       "      <td>0.402813</td>\n",
       "      <td>0.147897</td>\n",
       "      <td>0.045928</td>\n",
       "    </tr>\n",
       "  </tbody>\n",
       "</table>\n",
       "</div>"
      ]
     },
     "execution_count": 84,
     "metadata": {},
     "output_type": "execute_result"
    }
   ],
   "execution_count": 84
  },
  {
   "metadata": {
    "ExecuteTime": {
     "end_time": "2025-02-12T12:55:24.419854Z",
     "start_time": "2025-02-12T12:55:24.416285Z"
    }
   },
   "cell_type": "code",
   "source": "df",
   "id": "ca745bc000c09373",
   "outputs": [
    {
     "data": {
      "text/plain": [
       "   episode                                             script\n",
       "0       94  We are Fighting Dreamers aiming high\\n Fightin...\n",
       "1       80  We are Fighting Dreamers aiming high\\n Fightin..."
      ],
      "text/html": [
       "<div>\n",
       "<style scoped>\n",
       "    .dataframe tbody tr th:only-of-type {\n",
       "        vertical-align: middle;\n",
       "    }\n",
       "\n",
       "    .dataframe tbody tr th {\n",
       "        vertical-align: top;\n",
       "    }\n",
       "\n",
       "    .dataframe thead th {\n",
       "        text-align: right;\n",
       "    }\n",
       "</style>\n",
       "<table border=\"1\" class=\"dataframe\">\n",
       "  <thead>\n",
       "    <tr style=\"text-align: right;\">\n",
       "      <th></th>\n",
       "      <th>episode</th>\n",
       "      <th>script</th>\n",
       "    </tr>\n",
       "  </thead>\n",
       "  <tbody>\n",
       "    <tr>\n",
       "      <th>0</th>\n",
       "      <td>94</td>\n",
       "      <td>We are Fighting Dreamers aiming high\\n Fightin...</td>\n",
       "    </tr>\n",
       "    <tr>\n",
       "      <th>1</th>\n",
       "      <td>80</td>\n",
       "      <td>We are Fighting Dreamers aiming high\\n Fightin...</td>\n",
       "    </tr>\n",
       "  </tbody>\n",
       "</table>\n",
       "</div>"
      ]
     },
     "execution_count": 85,
     "metadata": {},
     "output_type": "execute_result"
    }
   ],
   "execution_count": 85
  },
  {
   "metadata": {
    "ExecuteTime": {
     "end_time": "2025-02-12T12:55:25.997210Z",
     "start_time": "2025-02-12T12:55:25.965336Z"
    }
   },
   "cell_type": "code",
   "source": [
    "df[themes_df.columns] = themes_df\n",
    "df"
   ],
   "id": "339606e307ceec6f",
   "outputs": [
    {
     "data": {
      "text/plain": [
       "   episode                                             script   battle  \\\n",
       "0       94  We are Fighting Dreamers aiming high\\n Fightin...  0.92018   \n",
       "1       80  We are Fighting Dreamers aiming high\\n Fightin...  0.91695   \n",
       "\n",
       "   dialogue  self development  betrayal  sacrifice      hope  friendship  \\\n",
       "0  0.876673          0.768298  0.750928   0.773524  0.198076    0.082828   \n",
       "1  0.949776          0.661953  0.685841   0.666984  0.402813    0.147897   \n",
       "\n",
       "       love  \n",
       "0  0.039260  \n",
       "1  0.045928  "
      ],
      "text/html": [
       "<div>\n",
       "<style scoped>\n",
       "    .dataframe tbody tr th:only-of-type {\n",
       "        vertical-align: middle;\n",
       "    }\n",
       "\n",
       "    .dataframe tbody tr th {\n",
       "        vertical-align: top;\n",
       "    }\n",
       "\n",
       "    .dataframe thead th {\n",
       "        text-align: right;\n",
       "    }\n",
       "</style>\n",
       "<table border=\"1\" class=\"dataframe\">\n",
       "  <thead>\n",
       "    <tr style=\"text-align: right;\">\n",
       "      <th></th>\n",
       "      <th>episode</th>\n",
       "      <th>script</th>\n",
       "      <th>battle</th>\n",
       "      <th>dialogue</th>\n",
       "      <th>self development</th>\n",
       "      <th>betrayal</th>\n",
       "      <th>sacrifice</th>\n",
       "      <th>hope</th>\n",
       "      <th>friendship</th>\n",
       "      <th>love</th>\n",
       "    </tr>\n",
       "  </thead>\n",
       "  <tbody>\n",
       "    <tr>\n",
       "      <th>0</th>\n",
       "      <td>94</td>\n",
       "      <td>We are Fighting Dreamers aiming high\\n Fightin...</td>\n",
       "      <td>0.92018</td>\n",
       "      <td>0.876673</td>\n",
       "      <td>0.768298</td>\n",
       "      <td>0.750928</td>\n",
       "      <td>0.773524</td>\n",
       "      <td>0.198076</td>\n",
       "      <td>0.082828</td>\n",
       "      <td>0.039260</td>\n",
       "    </tr>\n",
       "    <tr>\n",
       "      <th>1</th>\n",
       "      <td>80</td>\n",
       "      <td>We are Fighting Dreamers aiming high\\n Fightin...</td>\n",
       "      <td>0.91695</td>\n",
       "      <td>0.949776</td>\n",
       "      <td>0.661953</td>\n",
       "      <td>0.685841</td>\n",
       "      <td>0.666984</td>\n",
       "      <td>0.402813</td>\n",
       "      <td>0.147897</td>\n",
       "      <td>0.045928</td>\n",
       "    </tr>\n",
       "  </tbody>\n",
       "</table>\n",
       "</div>"
      ]
     },
     "execution_count": 86,
     "metadata": {},
     "output_type": "execute_result"
    }
   ],
   "execution_count": 86
  },
  {
   "metadata": {
    "ExecuteTime": {
     "end_time": "2025-02-12T12:55:26.218686Z",
     "start_time": "2025-02-12T12:55:26.214421Z"
    }
   },
   "cell_type": "code",
   "source": "df",
   "id": "8cf02bf5806ffa56",
   "outputs": [
    {
     "data": {
      "text/plain": [
       "   episode                                             script   battle  \\\n",
       "0       94  We are Fighting Dreamers aiming high\\n Fightin...  0.92018   \n",
       "1       80  We are Fighting Dreamers aiming high\\n Fightin...  0.91695   \n",
       "\n",
       "   dialogue  self development  betrayal  sacrifice      hope  friendship  \\\n",
       "0  0.876673          0.768298  0.750928   0.773524  0.198076    0.082828   \n",
       "1  0.949776          0.661953  0.685841   0.666984  0.402813    0.147897   \n",
       "\n",
       "       love  \n",
       "0  0.039260  \n",
       "1  0.045928  "
      ],
      "text/html": [
       "<div>\n",
       "<style scoped>\n",
       "    .dataframe tbody tr th:only-of-type {\n",
       "        vertical-align: middle;\n",
       "    }\n",
       "\n",
       "    .dataframe tbody tr th {\n",
       "        vertical-align: top;\n",
       "    }\n",
       "\n",
       "    .dataframe thead th {\n",
       "        text-align: right;\n",
       "    }\n",
       "</style>\n",
       "<table border=\"1\" class=\"dataframe\">\n",
       "  <thead>\n",
       "    <tr style=\"text-align: right;\">\n",
       "      <th></th>\n",
       "      <th>episode</th>\n",
       "      <th>script</th>\n",
       "      <th>battle</th>\n",
       "      <th>dialogue</th>\n",
       "      <th>self development</th>\n",
       "      <th>betrayal</th>\n",
       "      <th>sacrifice</th>\n",
       "      <th>hope</th>\n",
       "      <th>friendship</th>\n",
       "      <th>love</th>\n",
       "    </tr>\n",
       "  </thead>\n",
       "  <tbody>\n",
       "    <tr>\n",
       "      <th>0</th>\n",
       "      <td>94</td>\n",
       "      <td>We are Fighting Dreamers aiming high\\n Fightin...</td>\n",
       "      <td>0.92018</td>\n",
       "      <td>0.876673</td>\n",
       "      <td>0.768298</td>\n",
       "      <td>0.750928</td>\n",
       "      <td>0.773524</td>\n",
       "      <td>0.198076</td>\n",
       "      <td>0.082828</td>\n",
       "      <td>0.039260</td>\n",
       "    </tr>\n",
       "    <tr>\n",
       "      <th>1</th>\n",
       "      <td>80</td>\n",
       "      <td>We are Fighting Dreamers aiming high\\n Fightin...</td>\n",
       "      <td>0.91695</td>\n",
       "      <td>0.949776</td>\n",
       "      <td>0.661953</td>\n",
       "      <td>0.685841</td>\n",
       "      <td>0.666984</td>\n",
       "      <td>0.402813</td>\n",
       "      <td>0.147897</td>\n",
       "      <td>0.045928</td>\n",
       "    </tr>\n",
       "  </tbody>\n",
       "</table>\n",
       "</div>"
      ]
     },
     "execution_count": 87,
     "metadata": {},
     "output_type": "execute_result"
    }
   ],
   "execution_count": 87
  },
  {
   "metadata": {
    "ExecuteTime": {
     "end_time": "2025-02-12T12:55:26.394181Z",
     "start_time": "2025-02-12T12:55:26.352422Z"
    }
   },
   "cell_type": "code",
   "source": "df = df.drop ('dialogue', axis=1)",
   "id": "695de1b2a4a5ac4a",
   "outputs": [],
   "execution_count": 88
  },
  {
   "metadata": {
    "ExecuteTime": {
     "end_time": "2025-02-12T12:57:49.881845Z",
     "start_time": "2025-02-12T12:57:49.867989Z"
    }
   },
   "cell_type": "code",
   "source": [
    "theme_output = df.drop(['episode','script'], axis=1).sum().reset_index()\n",
    "theme_output.columns = ['theme','score']"
   ],
   "id": "2b173af1bb0dd4",
   "outputs": [],
   "execution_count": 90
  },
  {
   "metadata": {
    "ExecuteTime": {
     "end_time": "2025-02-12T12:57:51.406623Z",
     "start_time": "2025-02-12T12:57:51.401025Z"
    }
   },
   "cell_type": "code",
   "source": "theme_output",
   "id": "9fb2ad2911884350",
   "outputs": [
    {
     "data": {
      "text/plain": [
       "              theme     score\n",
       "0            battle  1.837129\n",
       "1  self development  1.430252\n",
       "2          betrayal  1.436769\n",
       "3         sacrifice  1.440508\n",
       "4              hope  0.600889\n",
       "5        friendship  0.230725\n",
       "6              love  0.085188"
      ],
      "text/html": [
       "<div>\n",
       "<style scoped>\n",
       "    .dataframe tbody tr th:only-of-type {\n",
       "        vertical-align: middle;\n",
       "    }\n",
       "\n",
       "    .dataframe tbody tr th {\n",
       "        vertical-align: top;\n",
       "    }\n",
       "\n",
       "    .dataframe thead th {\n",
       "        text-align: right;\n",
       "    }\n",
       "</style>\n",
       "<table border=\"1\" class=\"dataframe\">\n",
       "  <thead>\n",
       "    <tr style=\"text-align: right;\">\n",
       "      <th></th>\n",
       "      <th>theme</th>\n",
       "      <th>score</th>\n",
       "    </tr>\n",
       "  </thead>\n",
       "  <tbody>\n",
       "    <tr>\n",
       "      <th>0</th>\n",
       "      <td>battle</td>\n",
       "      <td>1.837129</td>\n",
       "    </tr>\n",
       "    <tr>\n",
       "      <th>1</th>\n",
       "      <td>self development</td>\n",
       "      <td>1.430252</td>\n",
       "    </tr>\n",
       "    <tr>\n",
       "      <th>2</th>\n",
       "      <td>betrayal</td>\n",
       "      <td>1.436769</td>\n",
       "    </tr>\n",
       "    <tr>\n",
       "      <th>3</th>\n",
       "      <td>sacrifice</td>\n",
       "      <td>1.440508</td>\n",
       "    </tr>\n",
       "    <tr>\n",
       "      <th>4</th>\n",
       "      <td>hope</td>\n",
       "      <td>0.600889</td>\n",
       "    </tr>\n",
       "    <tr>\n",
       "      <th>5</th>\n",
       "      <td>friendship</td>\n",
       "      <td>0.230725</td>\n",
       "    </tr>\n",
       "    <tr>\n",
       "      <th>6</th>\n",
       "      <td>love</td>\n",
       "      <td>0.085188</td>\n",
       "    </tr>\n",
       "  </tbody>\n",
       "</table>\n",
       "</div>"
      ]
     },
     "execution_count": 91,
     "metadata": {},
     "output_type": "execute_result"
    }
   ],
   "execution_count": 91
  },
  {
   "metadata": {
    "ExecuteTime": {
     "end_time": "2025-02-12T12:59:48.902412Z",
     "start_time": "2025-02-12T12:59:48.454254Z"
    }
   },
   "cell_type": "code",
   "source": [
    "import matplotlib.pyplot as plt\n",
    "import seaborn as sns"
   ],
   "id": "f4be6d179416f1b4",
   "outputs": [],
   "execution_count": 92
  },
  {
   "metadata": {
    "ExecuteTime": {
     "end_time": "2025-02-12T13:00:36.767412Z",
     "start_time": "2025-02-12T13:00:36.691604Z"
    }
   },
   "cell_type": "code",
   "source": [
    "sns.barplot(x=\"theme\", y=\"score\", data=theme_output)\n",
    "plt.xticks(rotation=45)\n",
    "plt.show()"
   ],
   "id": "4364fc72d0854afe",
   "outputs": [
    {
     "data": {
      "text/plain": [
       "<Figure size 640x480 with 1 Axes>"
      ],
      "image/png": "[encoded data removed]"
     },
     "metadata": {},
     "output_type": "display_data"
    }
   ],
   "execution_count": 94
  },
  {
   "metadata": {},
   "cell_type": "code",
   "outputs": [],
   "execution_count": null,
   "source": "",
   "id": "1fb7e99a4c492d69"
  }
 ],
 "metadata": {
  "kernelspec": {
   "display_name": "Python 3",
   "language": "python",
   "name": "python3"
  },
  "language_info": {
   "codemirror_mode": {
    "name": "ipython",
    "version": 2
   },
   "file_extension": ".py",
   "mimetype": "text/x-python",
   "name": "python",
   "nbconvert_exporter": "python",
   "pygments_lexer": "ipython2",
   "version": "2.7.6"
  }
 },
 "nbformat": 4,
 "nbformat_minor": 5
}
